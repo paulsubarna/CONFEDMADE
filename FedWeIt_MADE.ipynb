{
  "cells": [
    {
      "cell_type": "markdown",
      "metadata": {
        "id": "2zRG6S1dhLK8"
      },
      "source": [
        "# Important\n",
        "\n",
        "This notebook assumes that you connected your Drive to Google Colab and that you cloned the [FedWeIT-MADE repository](https://github.com/L-4-r-s/FedWeIT-MADE) into it"
      ]
    },
    {
      "cell_type": "code",
      "execution_count": null,
      "metadata": {
        "colab": {
          "base_uri": "https://localhost:8080/"
        },
        "id": "FapQozFgNasg",
        "outputId": "29dd6d6a-dc28-4638-b86d-5136b6d5fb13"
      },
      "outputs": [
        {
          "output_type": "stream",
          "name": "stdout",
          "text": [
            "/content/drive/MyDrive/FedWeIT-MADE\n"
          ]
        }
      ],
      "source": [
        "cd drive/MyDrive/FedWeIT-MADE"
      ]
    },
    {
      "cell_type": "code",
      "execution_count": null,
      "metadata": {
        "id": "_OOrkQryNnP1"
      },
      "outputs": [],
      "source": [
        "!pip install --upgrade pip\n",
        "!pip install -r requirements.txt\n",
        "!pip list | grep tf\n",
        "!pip install tensorflow==2.7.1 --upgrade --force-reinstall\n",
        "!pip install protobuf==3.20.1"
      ]
    },
    {
      "cell_type": "code",
      "execution_count": null,
      "metadata": {
        "id": "g40CwH8aNrdn"
      },
      "outputs": [],
      "source": [
        "!python3 main.py --work-type gen_data --task mnist --seed 42"
      ]
    },
    {
      "cell_type": "code",
      "execution_count": null,
      "metadata": {
        "id": "C-wRWct_Nu2O"
      },
      "outputs": [],
      "source": [
        "!python3 main.py --gpu 0 \\\n",
        "\t\t--work-type train \\\n",
        "\t\t--model fedweit \\\n",
        "\t\t--task mnist \\\n",
        "\t \t--gpu-mem-multiplier 20 \\\n",
        "\t\t--num-rounds 20 \\\n",
        "\t\t--num-epochs 1 \\\n",
        "\t\t--batch-size 100 \\\n",
        "\t\t--seed 42\n",
        "\n",
        "#\t\t--task mnist \\\t\t\n",
        "#\t\t--task non_iid_50 \\"
      ]
    }
  ],
  "metadata": {
    "accelerator": "GPU",
    "colab": {
      "collapsed_sections": [],
      "name": "FedWeIt2.0.ipynb",
      "provenance": [],
      "mount_file_id": "1cWhE5aZKykr7uaMZs6Ugy5ijNUkginZp",
      "authorship_tag": "ABX9TyO/xARClDaNQtfRTi96eP/1"
    },
    "kernelspec": {
      "display_name": "Python 3",
      "name": "python3"
    },
    "language_info": {
      "name": "python"
    }
  },
  "nbformat": 4,
  "nbformat_minor": 0
}